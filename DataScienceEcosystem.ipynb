{
 "cells": [
  {
   "cell_type": "markdown",
   "metadata": {},
   "source": [
    "<center>\n",
    "    <img src=\"https://cf-courses-data.s3.us.cloud-object-storage.appdomain.cloud/IBMDeveloperSkillsNetwork-DS0105EN-SkillsNetwork/labs/Module2/images/SN_web_lightmode.png\" width=\"300\" alt=\"cognitiveclass.ai logo\">\n",
    "</center>\n"
   ]
  },
  {
   "cell_type": "markdown",
   "metadata": {},
   "source": [
    "#### Add your code below following the instructions given in the course\n"
   ]
  },
  {
   "cell_type": "markdown",
   "metadata": {},
   "source": [
    "# Data Science Tools and Ecosystem #"
   ]
  },
  {
   "cell_type": "markdown",
   "metadata": {},
   "source": [
    "Data science is fun. Learning about its tools are also fun!  \n",
    "Here, I demonstrate my knowledge of data science tools, its ecosystem, Jupyter Notebook and Python coding I acquired over this course.\n",
    "___________________________"
   ]
  },
  {
   "cell_type": "markdown",
   "metadata": {},
   "source": [
    " Data scientists use many languages for their work. Languages such as:\n",
    " \n",
    " 1. Python\n",
    " 2. R\n",
    " 3. SQL\n",
    " 4. Java\n",
    " 5. C++\n",
    " 6. Julia\n",
    " 7. Scala\n",
    " \n",
    " are 7 data science languages.\n",
    " __________________________________________"
   ]
  },
  {
   "cell_type": "markdown",
   "metadata": {},
   "source": [
    "Python libraries are also commonly used for data science, in which:\n",
    "\n",
    "1. Pandas\n",
    "2. NumPy\n",
    "3. Matplotlib\n",
    "4. Seaborn\n",
    "5. Scikit-learn\n",
    "\n",
    "are 5 common data science libraries for Python.\n",
    "___________________________________"
   ]
  },
  {
   "cell_type": "markdown",
   "metadata": {},
   "source": [
    "| Data Science Tools |\n",
    "|:--:|\n",
    "| JupyterLAb |\n",
    "| VS Code |\n",
    "| Google Colaboratory |\n",
    "\n",
    "_________________________________"
   ]
  },
  {
   "cell_type": "markdown",
   "metadata": {},
   "source": [
    "### We know in python arithmetic expressions can be written as these: ###  \n",
    "##### add a to b = a + b #####  \n",
    "##### subtract a from b = a - b #####  \n",
    "##### multiply a with b = a * b #####  \n",
    "##### divide a by b = a / b #####  \n",
    "  \n",
    "Let us now demonstrate this in Python further, as instructed in the tasks given (which also includes coding a minute to hour converter!):"
   ]
  },
  {
   "cell_type": "code",
   "execution_count": 13,
   "metadata": {
    "tags": []
   },
   "outputs": [
    {
     "name": "stdout",
     "output_type": "stream",
     "text": [
      "17\n"
     ]
    }
   ],
   "source": [
    "def arithmetic_set(a, b):\n",
    "    k = a+b\n",
    "    l = a*b\n",
    "    return(k, l)\n",
    "    \n",
    "#test code below:\n",
    "#print(arithmetic_set(1, 2))\n",
    "#print(arithmetic_set(10, 7))\n",
    "#print(arithmetic_set(100, 2))\n",
    "\n",
    "#The task itself:\n",
    "\n",
    "print(arithmetic_set(5, arithmetic_set(3, 4)[1])[0])"
   ]
  },
  {
   "cell_type": "code",
   "execution_count": 21,
   "metadata": {
    "tags": []
   },
   "outputs": [
    {
     "name": "stdout",
     "output_type": "stream",
     "text": [
      "3.3333333333333335 hour(s)\n",
      "Which equals to:\n",
      "3 hour(s) and 20 minute(s)\n"
     ]
    }
   ],
   "source": [
    "def time_getter(mnt):\n",
    "    hour = 0\n",
    "    #do the instructed calculation here to get the decimal points version:\n",
    "    print(mnt / 60, \"hour(s)\")\n",
    "    \n",
    "    #then make it beautiful here:\n",
    "    while mnt >= 60:\n",
    "        mnt = mnt-60\n",
    "        hour += 1\n",
    "    \n",
    "    print(\"Which equals to:\")\n",
    "    if hour == 0:\n",
    "        print(mnt, \"minute(s)\")\n",
    "    else:\n",
    "        print(hour, \"hour(s) and\", mnt, \"minute(s)\")\n",
    "    \n",
    "#Again, test the code below:\n",
    "#time_getter(67)\n",
    "#time_getter(45)\n",
    "#time_getter(130)\n",
    "\n",
    "#The task itself:\n",
    "\n",
    "time_getter(200)"
   ]
  },
  {
   "cell_type": "markdown",
   "metadata": {},
   "source": [
    "__________________________\n",
    "**OBJECTIVES:**\n",
    "- List popular data science languages\n",
    "- Showcase table composing of open source data science environment tools\n",
    "- Demonstrate knowledge of coding in Python and the use of Jupyter\n",
    "______________________"
   ]
  },
  {
   "cell_type": "markdown",
   "metadata": {},
   "source": [
    "## Author ##\n",
    "Daiyu Tamaki\n",
    "_________________________________\n",
    "(END OF NOTEBOOK.)"
   ]
  }
 ],
 "metadata": {
  "kernelspec": {
   "display_name": "Python",
   "language": "python",
   "name": "conda-env-python-py"
  },
  "language_info": {
   "codemirror_mode": {
    "name": "ipython",
    "version": 3
   },
   "file_extension": ".py",
   "mimetype": "text/x-python",
   "name": "python",
   "nbconvert_exporter": "python",
   "pygments_lexer": "ipython3",
   "version": "3.7.12"
  }
 },
 "nbformat": 4,
 "nbformat_minor": 4
}
